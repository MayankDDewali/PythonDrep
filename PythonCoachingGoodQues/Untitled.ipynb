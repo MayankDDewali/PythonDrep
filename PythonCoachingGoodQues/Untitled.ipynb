{
 "cells": [
  {
   "cell_type": "code",
   "execution_count": 47,
   "id": "3ea1a76a-7ecf-4321-b15f-49c4e5638c25",
   "metadata": {},
   "outputs": [
    {
     "name": "stdin",
     "output_type": "stream",
     "text": [
      "Enter the first number:  13\n",
      "Enter the second number:  0\n"
     ]
    },
    {
     "name": "stdout",
     "output_type": "stream",
     "text": [
      "<class 'Exception'>\n"
     ]
    },
    {
     "name": "stdin",
     "output_type": "stream",
     "text": [
      "Enter the first number:  13\n",
      "Enter the second number:  9\n"
     ]
    },
    {
     "name": "stdout",
     "output_type": "stream",
     "text": [
      "1.4444444444444444\n"
     ]
    }
   ],
   "source": [
    "while(True):\n",
    "    x = int(input(\"Enter the first number: \"))\n",
    "    y = int(input(\"Enter the second number: \"))\n",
    "    try:\n",
    "        print(x/y)\n",
    "        break\n",
    "    except Exception:\n",
    "        print(Exception)"
   ]
  },
  {
   "cell_type": "code",
   "execution_count": null,
   "id": "9b027791-e37b-48df-b4e1-47ac57b95fe9",
   "metadata": {},
   "outputs": [],
   "source": []
  }
 ],
 "metadata": {
  "kernelspec": {
   "display_name": "Python 3 (ipykernel)",
   "language": "python",
   "name": "python3"
  },
  "language_info": {
   "codemirror_mode": {
    "name": "ipython",
    "version": 3
   },
   "file_extension": ".py",
   "mimetype": "text/x-python",
   "name": "python",
   "nbconvert_exporter": "python",
   "pygments_lexer": "ipython3",
   "version": "3.12.4"
  }
 },
 "nbformat": 4,
 "nbformat_minor": 5
}
